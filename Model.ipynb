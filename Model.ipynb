{
 "cells": [
  {
   "cell_type": "code",
   "execution_count": 193,
   "id": "d9b24bce",
   "metadata": {},
   "outputs": [
    {
     "name": "stderr",
     "output_type": "stream",
     "text": [
      "[nltk_data] Downloading package stopwords to C:\\Users\\Akash Kumar\n",
      "[nltk_data]     Verma\\AppData\\Roaming\\nltk_data...\n",
      "[nltk_data]   Package stopwords is already up-to-date!\n",
      "[nltk_data] Downloading package wordnet to C:\\Users\\Akash Kumar\n",
      "[nltk_data]     Verma\\AppData\\Roaming\\nltk_data...\n",
      "[nltk_data]   Package wordnet is already up-to-date!\n"
     ]
    },
    {
     "data": {
      "text/plain": [
       "True"
      ]
     },
     "execution_count": 193,
     "metadata": {},
     "output_type": "execute_result"
    }
   ],
   "source": [
    "import pandas as pd\n",
    "import numpy as np\n",
    "import matplotlib.pyplot as plt\n",
    "import seaborn as sns\n",
    "import nltk\n",
    "from nltk.corpus import stopwords\n",
    "from nltk.stem import PorterStemmer\n",
    "\n",
    "nltk.download('stopwords')\n",
    "nltk.download('wordnet')"
   ]
  },
  {
   "cell_type": "code",
   "execution_count": 194,
   "id": "fba37440",
   "metadata": {},
   "outputs": [],
   "source": [
    "df = pd.read_csv('data.csv')"
   ]
  },
  {
   "cell_type": "code",
   "execution_count": 195,
   "id": "ab8ce6c4",
   "metadata": {},
   "outputs": [
    {
     "data": {
      "text/html": [
       "<div>\n",
       "<style scoped>\n",
       "    .dataframe tbody tr th:only-of-type {\n",
       "        vertical-align: middle;\n",
       "    }\n",
       "\n",
       "    .dataframe tbody tr th {\n",
       "        vertical-align: top;\n",
       "    }\n",
       "\n",
       "    .dataframe thead th {\n",
       "        text-align: right;\n",
       "    }\n",
       "</style>\n",
       "<table border=\"1\" class=\"dataframe\">\n",
       "  <thead>\n",
       "    <tr style=\"text-align: right;\">\n",
       "      <th></th>\n",
       "      <th>Category</th>\n",
       "      <th>Resume</th>\n",
       "    </tr>\n",
       "  </thead>\n",
       "  <tbody>\n",
       "    <tr>\n",
       "      <th>0</th>\n",
       "      <td>Data Science</td>\n",
       "      <td>Skills * Programming Languages: Python (pandas...</td>\n",
       "    </tr>\n",
       "    <tr>\n",
       "      <th>1</th>\n",
       "      <td>Data Science</td>\n",
       "      <td>Education Details \\r\\nMay 2013 to May 2017 B.E...</td>\n",
       "    </tr>\n",
       "    <tr>\n",
       "      <th>2</th>\n",
       "      <td>Data Science</td>\n",
       "      <td>Areas of Interest Deep Learning, Control Syste...</td>\n",
       "    </tr>\n",
       "    <tr>\n",
       "      <th>3</th>\n",
       "      <td>Data Science</td>\n",
       "      <td>Skills â¢ R â¢ Python â¢ SAP HANA â¢ Table...</td>\n",
       "    </tr>\n",
       "    <tr>\n",
       "      <th>4</th>\n",
       "      <td>Data Science</td>\n",
       "      <td>Education Details \\r\\n MCA   YMCAUST,  Faridab...</td>\n",
       "    </tr>\n",
       "  </tbody>\n",
       "</table>\n",
       "</div>"
      ],
      "text/plain": [
       "       Category                                             Resume\n",
       "0  Data Science  Skills * Programming Languages: Python (pandas...\n",
       "1  Data Science  Education Details \\r\\nMay 2013 to May 2017 B.E...\n",
       "2  Data Science  Areas of Interest Deep Learning, Control Syste...\n",
       "3  Data Science  Skills â¢ R â¢ Python â¢ SAP HANA â¢ Table...\n",
       "4  Data Science  Education Details \\r\\n MCA   YMCAUST,  Faridab..."
      ]
     },
     "execution_count": 195,
     "metadata": {},
     "output_type": "execute_result"
    }
   ],
   "source": [
    "df.head()"
   ]
  },
  {
   "cell_type": "code",
   "execution_count": 196,
   "id": "fbdcbe40",
   "metadata": {},
   "outputs": [
    {
     "data": {
      "text/plain": [
       "(3446, 2)"
      ]
     },
     "execution_count": 196,
     "metadata": {},
     "output_type": "execute_result"
    }
   ],
   "source": [
    "df.shape"
   ]
  },
  {
   "cell_type": "code",
   "execution_count": 197,
   "id": "4016ff25",
   "metadata": {},
   "outputs": [
    {
     "data": {
      "text/plain": [
       "Category\n",
       "HR                           154\n",
       "BUSINESS-DEVELOPMENT         120\n",
       "INFORMATION-TECHNOLOGY       120\n",
       "FINANCE                      118\n",
       "CHEF                         118\n",
       "ADVOCATE                     118\n",
       "ACCOUNTANT                   118\n",
       "ENGINEERING                  118\n",
       "FITNESS                      117\n",
       "AVIATION                     117\n",
       "SALES                        116\n",
       "CONSULTANT                   115\n",
       "BANKING                      115\n",
       "HEALTHCARE                   115\n",
       "CONSTRUCTION                 112\n",
       "PUBLIC-RELATIONS             111\n",
       "DESIGNER                     107\n",
       "ARTS                         103\n",
       "TEACHER                      102\n",
       "APPAREL                       97\n",
       "DIGITAL-MEDIA                 96\n",
       "Java Developer                84\n",
       "Testing                       70\n",
       "AGRICULTURE                   63\n",
       "DevOps Engineer               55\n",
       "Python Developer              48\n",
       "Web Designing                 45\n",
       "Hadoop                        42\n",
       "Data Science                  40\n",
       "Mechanical Engineer           40\n",
       "Operations Manager            40\n",
       "Sales                         40\n",
       "ETL Developer                 40\n",
       "Blockchain                    40\n",
       "AUTOMOBILE                    36\n",
       "Arts                          36\n",
       "Database                      33\n",
       "PMO                           30\n",
       "Health and fitness            30\n",
       "Electrical Engineering        30\n",
       "Business Analyst              28\n",
       "DotNet Developer              28\n",
       "Automation Testing            26\n",
       "Network Security Engineer     25\n",
       "SAP Developer                 24\n",
       "Civil Engineer                24\n",
       "BPO                           22\n",
       "Advocate                      20\n",
       "Name: count, dtype: int64"
      ]
     },
     "execution_count": 197,
     "metadata": {},
     "output_type": "execute_result"
    }
   ],
   "source": [
    "df['Category'].value_counts()"
   ]
  },
  {
   "cell_type": "code",
   "execution_count": 198,
   "id": "1591c6df",
   "metadata": {},
   "outputs": [],
   "source": [
    "df['Category'] = df['Category'].str.lower()"
   ]
  },
  {
   "cell_type": "code",
   "execution_count": 199,
   "id": "0a124c1d",
   "metadata": {},
   "outputs": [],
   "source": [
    "low_f1 = ['bpo', 'automobile', 'arts', 'teacher', 'agriculture', 'apparel']\n",
    "df = df[~df['Category'].isin(low_f1)]"
   ]
  },
  {
   "cell_type": "code",
   "execution_count": 200,
   "id": "d8146f12",
   "metadata": {},
   "outputs": [
    {
     "data": {
      "text/plain": [
       "array(['data science', 'hr', 'advocate', 'web designing',\n",
       "       'mechanical engineer', 'sales', 'health and fitness',\n",
       "       'civil engineer', 'java developer', 'business analyst',\n",
       "       'sap developer', 'automation testing', 'electrical engineering',\n",
       "       'operations manager', 'python developer', 'devops engineer',\n",
       "       'network security engineer', 'pmo', 'database', 'hadoop',\n",
       "       'etl developer', 'dotnet developer', 'blockchain', 'testing',\n",
       "       'designer', 'information-technology', 'business-development',\n",
       "       'healthcare', 'fitness', 'consultant', 'digital-media', 'chef',\n",
       "       'finance', 'engineering', 'accountant', 'construction',\n",
       "       'public-relations', 'banking', 'aviation'], dtype=object)"
      ]
     },
     "execution_count": 200,
     "metadata": {},
     "output_type": "execute_result"
    }
   ],
   "source": [
    "df['Category'].unique()"
   ]
  },
  {
   "cell_type": "code",
   "execution_count": 201,
   "id": "06897214",
   "metadata": {},
   "outputs": [
    {
     "data": {
      "text/plain": [
       "np.int64(0)"
      ]
     },
     "execution_count": 201,
     "metadata": {},
     "output_type": "execute_result"
    }
   ],
   "source": [
    "df['Category'].isnull().sum()"
   ]
  },
  {
   "cell_type": "code",
   "execution_count": 202,
   "id": "567720b6",
   "metadata": {},
   "outputs": [
    {
     "data": {
      "image/png": "[encoded data removed]",
      "text/plain": [
       "<Figure size 640x480 with 1 Axes>"
      ]
     },
     "metadata": {},
     "output_type": "display_data"
    }
   ],
   "source": [
    "sns.countplot(x='Category', data=df)\n",
    "plt.title('Distribution of Categories')\n",
    "plt.show()"
   ]
  },
  {
   "cell_type": "code",
   "execution_count": 203,
   "id": "87951351",
   "metadata": {},
   "outputs": [
    {
     "data": {
      "text/plain": [
       "<Axes: xlabel='count', ylabel='Category'>"
      ]
     },
     "execution_count": 203,
     "metadata": {},
     "output_type": "execute_result"
    },
    {
     "data": {
      "image/png": "[encoded data removed]",
      "text/plain": [
       "<Figure size 500x1500 with 1 Axes>"
      ]
     },
     "metadata": {},
     "output_type": "display_data"
    }
   ],
   "source": [
    "plt.figure(figsize = (5,15))\n",
    "sns.countplot(df['Category'])\n"
   ]
  },
  {
   "cell_type": "code",
   "execution_count": 204,
   "id": "d9fa19ed",
   "metadata": {},
   "outputs": [
    {
     "data": {
      "text/plain": [
       "<Axes: xlabel='Category'>"
      ]
     },
     "execution_count": 204,
     "metadata": {},
     "output_type": "execute_result"
    },
    {
     "data": {
      "image/png": "[encoded data removed]",
      "text/plain": [
       "<Figure size 640x480 with 1 Axes>"
      ]
     },
     "metadata": {},
     "output_type": "display_data"
    }
   ],
   "source": [
    "df['Category'].value_counts().plot(kind='bar')\n"
   ]
  },
  {
   "cell_type": "code",
   "execution_count": 205,
   "id": "70696b75",
   "metadata": {},
   "outputs": [],
   "source": [
    "df_balanced = df"
   ]
  },
  {
   "cell_type": "code",
   "execution_count": 206,
   "id": "2e55b5ee",
   "metadata": {},
   "outputs": [
    {
     "data": {
      "text/plain": [
       "array(['data science', 'hr', 'advocate', 'web designing',\n",
       "       'mechanical engineer', 'sales', 'health and fitness',\n",
       "       'civil engineer', 'java developer', 'business analyst',\n",
       "       'sap developer', 'automation testing', 'electrical engineering',\n",
       "       'operations manager', 'python developer', 'devops engineer',\n",
       "       'network security engineer', 'pmo', 'database', 'hadoop',\n",
       "       'etl developer', 'dotnet developer', 'blockchain', 'testing',\n",
       "       'designer', 'information-technology', 'business-development',\n",
       "       'healthcare', 'fitness', 'consultant', 'digital-media', 'chef',\n",
       "       'finance', 'engineering', 'accountant', 'construction',\n",
       "       'public-relations', 'banking', 'aviation'], dtype=object)"
      ]
     },
     "execution_count": 206,
     "metadata": {},
     "output_type": "execute_result"
    }
   ],
   "source": [
    "df['Category'].unique()"
   ]
  },
  {
   "cell_type": "code",
   "execution_count": 207,
   "id": "bb545fc1",
   "metadata": {},
   "outputs": [
    {
     "data": {
      "text/plain": [
       "Category\n",
       "sales                        156\n",
       "hr                           154\n",
       "advocate                     138\n",
       "business-development         120\n",
       "information-technology       120\n",
       "finance                      118\n",
       "chef                         118\n",
       "engineering                  118\n",
       "accountant                   118\n",
       "aviation                     117\n",
       "fitness                      117\n",
       "banking                      115\n",
       "consultant                   115\n",
       "healthcare                   115\n",
       "construction                 112\n",
       "public-relations             111\n",
       "designer                     107\n",
       "digital-media                 96\n",
       "java developer                84\n",
       "testing                       70\n",
       "devops engineer               55\n",
       "python developer              48\n",
       "web designing                 45\n",
       "hadoop                        42\n",
       "etl developer                 40\n",
       "data science                  40\n",
       "mechanical engineer           40\n",
       "blockchain                    40\n",
       "operations manager            40\n",
       "database                      33\n",
       "health and fitness            30\n",
       "pmo                           30\n",
       "electrical engineering        30\n",
       "business analyst              28\n",
       "dotnet developer              28\n",
       "automation testing            26\n",
       "network security engineer     25\n",
       "sap developer                 24\n",
       "civil engineer                24\n",
       "Name: count, dtype: int64"
      ]
     },
     "execution_count": 207,
     "metadata": {},
     "output_type": "execute_result"
    }
   ],
   "source": [
    "df_balanced['Category'].value_counts()"
   ]
  },
  {
   "cell_type": "code",
   "execution_count": 208,
   "id": "c3f655c3",
   "metadata": {},
   "outputs": [
    {
     "data": {
      "text/html": [
       "<div>\n",
       "<style scoped>\n",
       "    .dataframe tbody tr th:only-of-type {\n",
       "        vertical-align: middle;\n",
       "    }\n",
       "\n",
       "    .dataframe tbody tr th {\n",
       "        vertical-align: top;\n",
       "    }\n",
       "\n",
       "    .dataframe thead th {\n",
       "        text-align: right;\n",
       "    }\n",
       "</style>\n",
       "<table border=\"1\" class=\"dataframe\">\n",
       "  <thead>\n",
       "    <tr style=\"text-align: right;\">\n",
       "      <th></th>\n",
       "      <th>Category</th>\n",
       "      <th>Resume</th>\n",
       "    </tr>\n",
       "  </thead>\n",
       "  <tbody>\n",
       "    <tr>\n",
       "      <th>0</th>\n",
       "      <td>data science</td>\n",
       "      <td>Skills * Programming Languages: Python (pandas...</td>\n",
       "    </tr>\n",
       "    <tr>\n",
       "      <th>1</th>\n",
       "      <td>data science</td>\n",
       "      <td>Education Details \\r\\nMay 2013 to May 2017 B.E...</td>\n",
       "    </tr>\n",
       "    <tr>\n",
       "      <th>2</th>\n",
       "      <td>data science</td>\n",
       "      <td>Areas of Interest Deep Learning, Control Syste...</td>\n",
       "    </tr>\n",
       "    <tr>\n",
       "      <th>3</th>\n",
       "      <td>data science</td>\n",
       "      <td>Skills â¢ R â¢ Python â¢ SAP HANA â¢ Table...</td>\n",
       "    </tr>\n",
       "    <tr>\n",
       "      <th>4</th>\n",
       "      <td>data science</td>\n",
       "      <td>Education Details \\r\\n MCA   YMCAUST,  Faridab...</td>\n",
       "    </tr>\n",
       "  </tbody>\n",
       "</table>\n",
       "</div>"
      ],
      "text/plain": [
       "       Category                                             Resume\n",
       "0  data science  Skills * Programming Languages: Python (pandas...\n",
       "1  data science  Education Details \\r\\nMay 2013 to May 2017 B.E...\n",
       "2  data science  Areas of Interest Deep Learning, Control Syste...\n",
       "3  data science  Skills â¢ R â¢ Python â¢ SAP HANA â¢ Table...\n",
       "4  data science  Education Details \\r\\n MCA   YMCAUST,  Faridab..."
      ]
     },
     "execution_count": 208,
     "metadata": {},
     "output_type": "execute_result"
    }
   ],
   "source": [
    "df_balanced.head()"
   ]
  },
  {
   "cell_type": "code",
   "execution_count": 209,
   "id": "73313a78",
   "metadata": {},
   "outputs": [],
   "source": [
    "df_balanced = df_balanced.reset_index(drop=True)"
   ]
  },
  {
   "cell_type": "code",
   "execution_count": 210,
   "id": "08962296",
   "metadata": {},
   "outputs": [
    {
     "data": {
      "text/html": [
       "<div>\n",
       "<style scoped>\n",
       "    .dataframe tbody tr th:only-of-type {\n",
       "        vertical-align: middle;\n",
       "    }\n",
       "\n",
       "    .dataframe tbody tr th {\n",
       "        vertical-align: top;\n",
       "    }\n",
       "\n",
       "    .dataframe thead th {\n",
       "        text-align: right;\n",
       "    }\n",
       "</style>\n",
       "<table border=\"1\" class=\"dataframe\">\n",
       "  <thead>\n",
       "    <tr style=\"text-align: right;\">\n",
       "      <th></th>\n",
       "      <th>Category</th>\n",
       "      <th>Resume</th>\n",
       "    </tr>\n",
       "  </thead>\n",
       "  <tbody>\n",
       "    <tr>\n",
       "      <th>0</th>\n",
       "      <td>data science</td>\n",
       "      <td>Skills * Programming Languages: Python (pandas...</td>\n",
       "    </tr>\n",
       "    <tr>\n",
       "      <th>1</th>\n",
       "      <td>data science</td>\n",
       "      <td>Education Details \\r\\nMay 2013 to May 2017 B.E...</td>\n",
       "    </tr>\n",
       "    <tr>\n",
       "      <th>2</th>\n",
       "      <td>data science</td>\n",
       "      <td>Areas of Interest Deep Learning, Control Syste...</td>\n",
       "    </tr>\n",
       "    <tr>\n",
       "      <th>3</th>\n",
       "      <td>data science</td>\n",
       "      <td>Skills â¢ R â¢ Python â¢ SAP HANA â¢ Table...</td>\n",
       "    </tr>\n",
       "    <tr>\n",
       "      <th>4</th>\n",
       "      <td>data science</td>\n",
       "      <td>Education Details \\r\\n MCA   YMCAUST,  Faridab...</td>\n",
       "    </tr>\n",
       "    <tr>\n",
       "      <th>...</th>\n",
       "      <td>...</td>\n",
       "      <td>...</td>\n",
       "    </tr>\n",
       "    <tr>\n",
       "      <th>2982</th>\n",
       "      <td>aviation</td>\n",
       "      <td>RANK: SGT/E-5 NON- COMMISSIONED OFFIC...</td>\n",
       "    </tr>\n",
       "    <tr>\n",
       "      <th>2983</th>\n",
       "      <td>aviation</td>\n",
       "      <td>GOVERNMENT RELATIONS, COMMUNICATIONS ...</td>\n",
       "    </tr>\n",
       "    <tr>\n",
       "      <th>2984</th>\n",
       "      <td>aviation</td>\n",
       "      <td>GEEK SQUAD AGENT         Professional...</td>\n",
       "    </tr>\n",
       "    <tr>\n",
       "      <th>2985</th>\n",
       "      <td>aviation</td>\n",
       "      <td>PROGRAM DIRECTOR / OFFICE MANAGER    ...</td>\n",
       "    </tr>\n",
       "    <tr>\n",
       "      <th>2986</th>\n",
       "      <td>aviation</td>\n",
       "      <td>STOREKEEPER II       Professional Sum...</td>\n",
       "    </tr>\n",
       "  </tbody>\n",
       "</table>\n",
       "<p>2987 rows × 2 columns</p>\n",
       "</div>"
      ],
      "text/plain": [
       "          Category                                             Resume\n",
       "0     data science  Skills * Programming Languages: Python (pandas...\n",
       "1     data science  Education Details \\r\\nMay 2013 to May 2017 B.E...\n",
       "2     data science  Areas of Interest Deep Learning, Control Syste...\n",
       "3     data science  Skills â¢ R â¢ Python â¢ SAP HANA â¢ Table...\n",
       "4     data science  Education Details \\r\\n MCA   YMCAUST,  Faridab...\n",
       "...            ...                                                ...\n",
       "2982      aviation           RANK: SGT/E-5 NON- COMMISSIONED OFFIC...\n",
       "2983      aviation           GOVERNMENT RELATIONS, COMMUNICATIONS ...\n",
       "2984      aviation           GEEK SQUAD AGENT         Professional...\n",
       "2985      aviation           PROGRAM DIRECTOR / OFFICE MANAGER    ...\n",
       "2986      aviation           STOREKEEPER II       Professional Sum...\n",
       "\n",
       "[2987 rows x 2 columns]"
      ]
     },
     "execution_count": 210,
     "metadata": {},
     "output_type": "execute_result"
    }
   ],
   "source": [
    "df_balanced"
   ]
  },
  {
   "cell_type": "code",
   "execution_count": 211,
   "id": "333450b2",
   "metadata": {},
   "outputs": [
    {
     "name": "stdout",
     "output_type": "stream",
     "text": [
      "TECHNICAL SKILLS â¢ Typewriting â¢ TORA â¢ SPSSEducation Details \n",
      "January 2017 MBA  Chidambaram, Tamil Nadu SNS College of Engineering\n",
      "January 2014 HSC   at SAV Higher Secondary School\n",
      " MBA   SNS College of Engineering\n",
      " SSLC Finance  at Kamaraj Matriculation School\n",
      "HR \n",
      "\n",
      "\n",
      "Skill Details \n",
      "Human resource, Finance- Exprience - Less than 1 year monthsCompany Details \n",
      "company - \n",
      "description - \n"
     ]
    }
   ],
   "source": [
    "print(df_balanced['Resume'][62])"
   ]
  },
  {
   "cell_type": "markdown",
   "id": "10b4f8b6",
   "metadata": {},
   "source": [
    "# Data Cleaning #"
   ]
  },
  {
   "cell_type": "code",
   "execution_count": 212,
   "id": "9edab7ff",
   "metadata": {},
   "outputs": [],
   "source": [
    "import re\n",
    "\n",
    "def clean_text(text):\n",
    "    text = re.sub(r'http\\S+\\s', ' ', text)  # Remove URLs\n",
    "    text = re.sub('RT|cc', ' ', text)  # Remove RT and cc\n",
    "    text = re.sub('#\\S+\\s', ' ', text)  # Remove hashtags           \n",
    "    text = re.sub('@\\S+\\s', ' ', text)  # Remove mentions\n",
    "    text = re.sub('[%s]' % re.escape(\"\"\"!\"#$&'()*+,-./:;<=>?@[\\]^_`{|}~\"\"\"), ' ', text)  # Remove punctuation\n",
    "    text = re.sub(r'[^\\x00-\\x7F]+', ' ', text)  # Remove non-ASCII characters\n",
    "    text = re.sub('\\s+',\" \", text)  # Remove extra whitespace\n",
    "    text = text.lower()\n",
    "    return text\n"
   ]
  },
  {
   "cell_type": "code",
   "execution_count": 213,
   "id": "18a9a855",
   "metadata": {},
   "outputs": [],
   "source": [
    "df_balanced['Resume_cleaned']=df_balanced['Resume'].apply(lambda x:clean_text(x))"
   ]
  },
  {
   "cell_type": "code",
   "execution_count": 214,
   "id": "92315f42",
   "metadata": {},
   "outputs": [
    {
     "data": {
      "text/plain": [
       "'skills programming languages python pandas numpy scipy scikit learn matplotlib sql java javascript jquery machine learning regression svm na ve bayes knn random forest decision trees boosting techniques cluster analysis word embedding sentiment analysis natural language processing dimensionality reduction topic modelling lda nmf pca neural nets database visualizations mysql sqlserver cassandra hbase elasticsearch d3 js dc js plotly kibana matplotlib ggplot tableau others regular expression html css angular 6 logstash kafka python flask git docker computer vision open cv and understanding of deep learning education details data science assurance associate data science assurance associate ernst young llp skill details javascript exprience 24 months jquery exprience 24 months python exprience 24 monthscompany details company ernst young llp description fraud investigations and dispute services assurance technology assisted review tar technology assisted review assists in a elerating the review process and run analytics and generate reports core member of a team helped in developing automated review platform tool from scratch for assisting e discovery domain this tool implements predictive coding and topic modelling by automating reviews resulting in reduced labor costs and time spent during the lawyers review understand the end to end flow of the solution doing research and development for classification models predictive analysis and mining of the information present in text data worked on analyzing the outputs and precision monitoring for the entire tool tar assists in predictive coding topic modelling from the evidence by following ey standards developed the classifier models in order to identify red flags and fraud related issues tools technologies python scikit learn tfidf word2vec doc2vec cosine similarity na ve bayes lda nmf for topic modelling vader and text blob for sentiment analysis matplot lib tableau dashboard for reporting multiple data science and analytic projects usa clients text analytics motor vehicle customer review data received customer feedback survey data for past one year performed sentiment positive negative neutral and time series analysis on customer comments across all 4 categories created heat map of terms by survey category based on frequency of words extracted positive and negative words across all the survey categories and plotted word cloud created customized tableau dashboards for effective reporting and visualizations chatbot developed a user friendly chatbot for one of our products which handle simple questions about hours of operation reservation options and so on this chat bot serves entire product related questions giving overview of tool via qa platform and also give recommendation responses so that user question to build chain of relevant answer this too has intelligence to build the pipeline of questions as per user requirement and asks the relevant recommended questions tools technologies python natural language processing nltk spacy topic modelling sentiment analysis word embedding scikit learn javascript jquery sqlserver information governance organizations to make informed decisions about all of the information they store the integrated information governance portfolio synthesizes intelligence across unstructured data sources and facilitates action to ensure organizations are best positioned to counter information risk scan data from multiple sources of formats and parse different file formats extract meta data information push results for indexing elastic search and created customized interactive dashboards using kibana preforming rot analysis on the data which give information of data which helps identify content that is either redundant outdated or trivial preforming full text search analysis on elastic search with predefined methods which can tag as pii personally identifiable information social security numbers addresses names etc which frequently targeted during cyber attacks tools technologies python flask elastic search kibana fraud analytic platform fraud analytics and investigative platform to review all red flag cases fap is a fraud analytics and investigative platform with inbuilt case manager and suite of analytics for various erp systems it can be used by clients to interrogate their a ounting systems for identifying the anomalies which can be indicators of fraud by running advanced analytics tools technologies html javascript sqlserver jquery css bootstrap node js d3 js dc js'"
      ]
     },
     "execution_count": 214,
     "metadata": {},
     "output_type": "execute_result"
    }
   ],
   "source": [
    "df_balanced['Resume_cleaned'][0]"
   ]
  },
  {
   "cell_type": "markdown",
   "id": "6e690b49",
   "metadata": {},
   "source": [
    "# Converting words into categorical value #"
   ]
  },
  {
   "cell_type": "code",
   "execution_count": 215,
   "id": "d7c425ef",
   "metadata": {},
   "outputs": [
    {
     "data": {
      "text/plain": [
       "0       data science\n",
       "1       data science\n",
       "2       data science\n",
       "3       data science\n",
       "4       data science\n",
       "            ...     \n",
       "2982        aviation\n",
       "2983        aviation\n",
       "2984        aviation\n",
       "2985        aviation\n",
       "2986        aviation\n",
       "Name: Category, Length: 2987, dtype: object"
      ]
     },
     "execution_count": 215,
     "metadata": {},
     "output_type": "execute_result"
    }
   ],
   "source": [
    "df_balanced['Category']"
   ]
  },
  {
   "cell_type": "code",
   "execution_count": 216,
   "id": "6464c3f3",
   "metadata": {},
   "outputs": [],
   "source": [
    "from sklearn.preprocessing import LabelEncoder\n",
    "le = LabelEncoder()"
   ]
  },
  {
   "cell_type": "code",
   "execution_count": 217,
   "id": "4fd2822b",
   "metadata": {},
   "outputs": [
    {
     "data": {
      "text/plain": [
       "Category_encoded\n",
       "35    156\n",
       "26    154\n",
       "1     138\n",
       "7     120\n",
       "27    120\n",
       "21    118\n",
       "8     118\n",
       "19    118\n",
       "0     118\n",
       "3     117\n",
       "22    117\n",
       "4     115\n",
       "11    115\n",
       "25    115\n",
       "10    112\n",
       "33    111\n",
       "14    107\n",
       "16     96\n",
       "28     84\n",
       "37     70\n",
       "15     55\n",
       "34     48\n",
       "38     45\n",
       "23     42\n",
       "20     40\n",
       "12     40\n",
       "29     40\n",
       "5      40\n",
       "31     40\n",
       "13     33\n",
       "24     30\n",
       "32     30\n",
       "18     30\n",
       "6      28\n",
       "17     28\n",
       "2      26\n",
       "30     25\n",
       "36     24\n",
       "9      24\n",
       "Name: count, dtype: int64"
      ]
     },
     "execution_count": 217,
     "metadata": {},
     "output_type": "execute_result"
    }
   ],
   "source": [
    "le.fit(df_balanced['Category'])\n",
    "df_balanced['Category_encoded'] = le.transform(df_balanced['Category'])\n",
    "df_balanced['Category_encoded'].value_counts()"
   ]
  },
  {
   "cell_type": "code",
   "execution_count": 218,
   "id": "b9472694",
   "metadata": {},
   "outputs": [
    {
     "name": "stdout",
     "output_type": "stream",
     "text": [
      "0       12\n",
      "1       12\n",
      "2       12\n",
      "3       12\n",
      "4       12\n",
      "        ..\n",
      "2982     3\n",
      "2983     3\n",
      "2984     3\n",
      "2985     3\n",
      "2986     3\n",
      "Name: Category_encoded, Length: 2987, dtype: int64\n"
     ]
    }
   ],
   "source": [
    "print(df_balanced['Category_encoded'])"
   ]
  },
  {
   "cell_type": "code",
   "execution_count": 219,
   "id": "4f31b177",
   "metadata": {},
   "outputs": [
    {
     "data": {
      "text/plain": [
       "array([12, 26,  1, 38, 29, 35, 24,  9, 28,  6, 36,  2, 18, 31, 34, 15, 30,\n",
       "       32, 13, 23, 20, 17,  5, 37, 14, 27,  7, 25, 22, 11, 16,  8, 21, 19,\n",
       "        0, 10, 33,  4,  3])"
      ]
     },
     "execution_count": 219,
     "metadata": {},
     "output_type": "execute_result"
    }
   ],
   "source": [
    "df_balanced['Category_encoded'].unique()"
   ]
  },
  {
   "cell_type": "code",
   "execution_count": 231,
   "id": "8b59ade6",
   "metadata": {},
   "outputs": [
    {
     "data": {
      "text/plain": [
       "array(['data science', 'hr', 'advocate', 'web designing',\n",
       "       'mechanical engineer', 'sales', 'health and fitness',\n",
       "       'civil engineer', 'java developer', 'business analyst',\n",
       "       'sap developer', 'automation testing', 'electrical engineering',\n",
       "       'operations manager', 'python developer', 'devops engineer',\n",
       "       'network security engineer', 'pmo', 'database', 'hadoop',\n",
       "       'etl developer', 'dotnet developer', 'blockchain', 'testing',\n",
       "       'designer', 'information-technology', 'business-development',\n",
       "       'healthcare', 'fitness', 'consultant', 'digital-media', 'chef',\n",
       "       'finance', 'engineering', 'accountant', 'construction',\n",
       "       'public-relations', 'banking', 'aviation'], dtype=object)"
      ]
     },
     "execution_count": 231,
     "metadata": {},
     "output_type": "execute_result"
    }
   ],
   "source": [
    "df_balanced['Category'].unique()"
   ]
  },
  {
   "cell_type": "code",
   "execution_count": 220,
   "id": "b6a48847",
   "metadata": {},
   "outputs": [
    {
     "data": {
      "text/html": [
       "<div>\n",
       "<style scoped>\n",
       "    .dataframe tbody tr th:only-of-type {\n",
       "        vertical-align: middle;\n",
       "    }\n",
       "\n",
       "    .dataframe tbody tr th {\n",
       "        vertical-align: top;\n",
       "    }\n",
       "\n",
       "    .dataframe thead th {\n",
       "        text-align: right;\n",
       "    }\n",
       "</style>\n",
       "<table border=\"1\" class=\"dataframe\">\n",
       "  <thead>\n",
       "    <tr style=\"text-align: right;\">\n",
       "      <th></th>\n",
       "      <th>Category</th>\n",
       "      <th>Resume</th>\n",
       "      <th>Resume_cleaned</th>\n",
       "      <th>Category_encoded</th>\n",
       "    </tr>\n",
       "  </thead>\n",
       "  <tbody>\n",
       "    <tr>\n",
       "      <th>0</th>\n",
       "      <td>data science</td>\n",
       "      <td>Skills * Programming Languages: Python (pandas...</td>\n",
       "      <td>skills programming languages python pandas num...</td>\n",
       "      <td>12</td>\n",
       "    </tr>\n",
       "    <tr>\n",
       "      <th>1</th>\n",
       "      <td>data science</td>\n",
       "      <td>Education Details \\r\\nMay 2013 to May 2017 B.E...</td>\n",
       "      <td>education details may 2013 to may 2017 b e uit...</td>\n",
       "      <td>12</td>\n",
       "    </tr>\n",
       "    <tr>\n",
       "      <th>2</th>\n",
       "      <td>data science</td>\n",
       "      <td>Areas of Interest Deep Learning, Control Syste...</td>\n",
       "      <td>areas of interest deep learning control system...</td>\n",
       "      <td>12</td>\n",
       "    </tr>\n",
       "    <tr>\n",
       "      <th>3</th>\n",
       "      <td>data science</td>\n",
       "      <td>Skills â¢ R â¢ Python â¢ SAP HANA â¢ Table...</td>\n",
       "      <td>skills r python sap hana tableau sap hana sql ...</td>\n",
       "      <td>12</td>\n",
       "    </tr>\n",
       "    <tr>\n",
       "      <th>4</th>\n",
       "      <td>data science</td>\n",
       "      <td>Education Details \\r\\n MCA   YMCAUST,  Faridab...</td>\n",
       "      <td>education details mca ymcaust faridabad haryan...</td>\n",
       "      <td>12</td>\n",
       "    </tr>\n",
       "  </tbody>\n",
       "</table>\n",
       "</div>"
      ],
      "text/plain": [
       "       Category                                             Resume  \\\n",
       "0  data science  Skills * Programming Languages: Python (pandas...   \n",
       "1  data science  Education Details \\r\\nMay 2013 to May 2017 B.E...   \n",
       "2  data science  Areas of Interest Deep Learning, Control Syste...   \n",
       "3  data science  Skills â¢ R â¢ Python â¢ SAP HANA â¢ Table...   \n",
       "4  data science  Education Details \\r\\n MCA   YMCAUST,  Faridab...   \n",
       "\n",
       "                                      Resume_cleaned  Category_encoded  \n",
       "0  skills programming languages python pandas num...                12  \n",
       "1  education details may 2013 to may 2017 b e uit...                12  \n",
       "2  areas of interest deep learning control system...                12  \n",
       "3  skills r python sap hana tableau sap hana sql ...                12  \n",
       "4  education details mca ymcaust faridabad haryan...                12  "
      ]
     },
     "execution_count": 220,
     "metadata": {},
     "output_type": "execute_result"
    }
   ],
   "source": [
    "df_balanced.head()"
   ]
  },
  {
   "cell_type": "markdown",
   "id": "6a1a70f5",
   "metadata": {},
   "source": [
    "# Vectorization of Resume_cleaned #"
   ]
  },
  {
   "cell_type": "code",
   "execution_count": 221,
   "id": "3df0e7d9",
   "metadata": {},
   "outputs": [],
   "source": [
    "from sklearn.feature_extraction.text import TfidfVectorizer\n",
    "tfidf = TfidfVectorizer(ngram_range=(1, 2), max_df=0.95, min_df=5, stop_words='english')\n",
    "\n",
    "tfidf.fit(df_balanced['Resume_cleaned'])\n",
    "X = tfidf.transform(df_balanced['Resume_cleaned'])"
   ]
  },
  {
   "cell_type": "markdown",
   "id": "06f28685",
   "metadata": {},
   "source": [
    "# Splitting #"
   ]
  },
  {
   "cell_type": "code",
   "execution_count": 222,
   "id": "c3cbf5d8",
   "metadata": {},
   "outputs": [],
   "source": [
    "from sklearn.model_selection import train_test_split\n",
    "X_train, X_test, y_train, y_test = train_test_split(X, df_balanced['Category_encoded'], test_size=0.2, random_state=42)"
   ]
  },
  {
   "cell_type": "code",
   "execution_count": 223,
   "id": "273f1f17",
   "metadata": {},
   "outputs": [
    {
     "data": {
      "text/plain": [
       "((2389, 60185), (598, 60185), (2389,), (598,))"
      ]
     },
     "execution_count": 223,
     "metadata": {},
     "output_type": "execute_result"
    }
   ],
   "source": [
    "X_train.shape, X_test.shape, y_train.shape, y_test.shape"
   ]
  },
  {
   "cell_type": "code",
   "execution_count": 224,
   "id": "e8bb98f6",
   "metadata": {},
   "outputs": [
    {
     "name": "stdout",
     "output_type": "stream",
     "text": [
      "✅ After Oversampling: Counter({16: 122, 10: 122, 15: 122, 8: 122, 4: 122, 31: 122, 5: 122, 25: 122, 34: 122, 32: 122, 14: 122, 11: 122, 22: 122, 1: 122, 3: 122, 28: 122, 17: 122, 9: 122, 7: 122, 19: 122, 26: 122, 33: 122, 18: 122, 21: 122, 13: 122, 6: 122, 20: 122, 37: 122, 35: 122, 27: 122, 0: 122, 2: 122, 24: 122, 38: 122, 29: 122, 23: 122, 30: 122, 12: 122, 36: 122})\n"
     ]
    }
   ],
   "source": [
    "from imblearn.over_sampling import RandomOverSampler\n",
    "from collections import Counter\n",
    "\n",
    "# Oversample minority classes\n",
    "ros = RandomOverSampler(random_state=42)\n",
    "X_train, y_train = ros.fit_resample(X_train, y_train)\n",
    "\n",
    "# Show class distribution after resampling\n",
    "print(f\"✅ After Oversampling: {Counter(y_train)}\")"
   ]
  },
  {
   "cell_type": "markdown",
   "id": "6f150a9b",
   "metadata": {},
   "source": [
    "# Model #"
   ]
  },
  {
   "cell_type": "code",
   "execution_count": 225,
   "id": "ce335613",
   "metadata": {},
   "outputs": [],
   "source": [
    "from sklearn.linear_model import LogisticRegression\n",
    "from sklearn.naive_bayes import MultinomialNB\n",
    "from sklearn.ensemble import RandomForestClassifier\n",
    "from sklearn.svm import SVC\n",
    "from sklearn.model_selection import GridSearchCV\n",
    "from sklearn.metrics import classification_report, confusion_matrix, accuracy_score\n",
    "\n",
    "# Models and hyperparameters\n",
    "models = {\n",
    "    \"Logistic Regression\": (\n",
    "        LogisticRegression(max_iter=1000, multi_class='multinomial', solver='saga'),\n",
    "        {\"C\": [0.1, 1, 10, 100]}\n",
    "    ),\n",
    "    \"Naive Bayes\": (\n",
    "        MultinomialNB(),\n",
    "        {\"alpha\": [0.5, 1.0, 1.5]}  \n",
    "    ),\n",
    "    \"Random Forest\": (\n",
    "        RandomForestClassifier(),\n",
    "        {\"n_estimators\": [5000], \"max_depth\": [100]}\n",
    "    ),\n",
    "    \"SVM\": (\n",
    "        SVC(probability=True),\n",
    "        {\"C\": [0.1, 1, 10], \"kernel\": [\"linear\", \"rbf\"]}\n",
    "    )\n",
    "}"
   ]
  },
  {
   "cell_type": "code",
   "execution_count": 227,
   "id": "da451dbe",
   "metadata": {},
   "outputs": [
    {
     "name": "stdout",
     "output_type": "stream",
     "text": [
      "\n",
      "🔍 Training and tuning: Logistic Regression\n"
     ]
    },
    {
     "name": "stderr",
     "output_type": "stream",
     "text": [
      "d:\\Python\\NLP\\Profession_Identifier\\venv\\Lib\\site-packages\\sklearn\\linear_model\\_logistic.py:1247: FutureWarning: 'multi_class' was deprecated in version 1.5 and will be removed in 1.7. From then on, it will always use 'multinomial'. Leave it to its default value to avoid this warning.\n",
      "  warnings.warn(\n"
     ]
    },
    {
     "name": "stdout",
     "output_type": "stream",
     "text": [
      "✅ Best Params: {'C': 100}\n",
      "🎯 Accuracy: 0.8244\n",
      "📊 Classification Report:\n",
      "                           precision    recall  f1-score   support\n",
      "\n",
      "               accountant       0.76      0.88      0.81        25\n",
      "                 advocate       0.73      0.52      0.60        31\n",
      "       automation testing       1.00      0.78      0.88         9\n",
      "                 aviation       0.75      0.75      0.75        20\n",
      "                  banking       0.57      0.74      0.64        23\n",
      "               blockchain       1.00      1.00      1.00         6\n",
      "         business analyst       1.00      1.00      1.00         4\n",
      "     business-development       0.74      0.80      0.77        25\n",
      "                     chef       0.95      0.90      0.92        20\n",
      "           civil engineer       1.00      1.00      1.00         3\n",
      "             construction       0.83      0.87      0.85        23\n",
      "               consultant       0.56      0.25      0.34        20\n",
      "             data science       1.00      1.00      1.00         6\n",
      "                 database       1.00      1.00      1.00         8\n",
      "                 designer       0.95      0.82      0.88        22\n",
      "          devops engineer       1.00      0.85      0.92        13\n",
      "            digital-media       0.79      0.85      0.81        13\n",
      "         dotnet developer       0.71      1.00      0.83         5\n",
      "   electrical engineering       1.00      1.00      1.00         6\n",
      "              engineering       0.76      0.81      0.79        27\n",
      "            etl developer       1.00      1.00      1.00         8\n",
      "                  finance       0.81      0.68      0.74        25\n",
      "                  fitness       1.00      0.70      0.82        23\n",
      "                   hadoop       1.00      1.00      1.00         8\n",
      "       health and fitness       1.00      1.00      1.00         8\n",
      "               healthcare       0.47      0.67      0.55        21\n",
      "                       hr       0.85      0.97      0.90        34\n",
      "   information-technology       0.76      0.88      0.81        25\n",
      "           java developer       1.00      1.00      1.00        18\n",
      "      mechanical engineer       1.00      1.00      1.00        13\n",
      "network security engineer       1.00      1.00      1.00         2\n",
      "       operations manager       1.00      1.00      1.00         9\n",
      "                      pmo       1.00      1.00      1.00         3\n",
      "         public-relations       0.95      0.86      0.90        21\n",
      "         python developer       1.00      1.00      1.00        11\n",
      "                    sales       0.71      0.79      0.75        34\n",
      "            sap developer       1.00      1.00      1.00         7\n",
      "                  testing       1.00      1.00      1.00         9\n",
      "            web designing       1.00      1.00      1.00        10\n",
      "\n",
      "                 accuracy                           0.82       598\n",
      "                macro avg       0.89      0.88      0.88       598\n",
      "             weighted avg       0.83      0.82      0.82       598\n",
      "\n",
      "\n",
      "🔍 Training and tuning: Naive Bayes\n",
      "✅ Best Params: {'alpha': 0.5}\n",
      "🎯 Accuracy: 0.7458\n",
      "📊 Classification Report:\n",
      "                           precision    recall  f1-score   support\n",
      "\n",
      "               accountant       0.50      0.84      0.63        25\n",
      "                 advocate       0.80      0.26      0.39        31\n",
      "       automation testing       1.00      0.78      0.88         9\n",
      "                 aviation       0.79      0.75      0.77        20\n",
      "                  banking       0.64      0.70      0.67        23\n",
      "               blockchain       1.00      1.00      1.00         6\n",
      "         business analyst       0.80      1.00      0.89         4\n",
      "     business-development       0.44      0.72      0.55        25\n",
      "                     chef       0.89      0.85      0.87        20\n",
      "           civil engineer       1.00      1.00      1.00         3\n",
      "             construction       0.86      0.78      0.82        23\n",
      "               consultant       0.33      0.05      0.09        20\n",
      "             data science       0.86      1.00      0.92         6\n",
      "                 database       0.89      1.00      0.94         8\n",
      "                 designer       0.88      0.68      0.77        22\n",
      "          devops engineer       1.00      0.85      0.92        13\n",
      "            digital-media       0.64      0.69      0.67        13\n",
      "         dotnet developer       0.71      1.00      0.83         5\n",
      "   electrical engineering       0.75      1.00      0.86         6\n",
      "              engineering       0.77      0.63      0.69        27\n",
      "            etl developer       1.00      1.00      1.00         8\n",
      "                  finance       0.67      0.32      0.43        25\n",
      "                  fitness       0.84      0.70      0.76        23\n",
      "                   hadoop       1.00      1.00      1.00         8\n",
      "       health and fitness       1.00      1.00      1.00         8\n",
      "               healthcare       0.33      0.57      0.42        21\n",
      "                       hr       0.82      0.94      0.88        34\n",
      "   information-technology       0.65      0.88      0.75        25\n",
      "           java developer       1.00      1.00      1.00        18\n",
      "      mechanical engineer       1.00      1.00      1.00        13\n",
      "network security engineer       1.00      1.00      1.00         2\n",
      "       operations manager       1.00      1.00      1.00         9\n",
      "                      pmo       0.75      1.00      0.86         3\n",
      "         public-relations       0.72      0.86      0.78        21\n",
      "         python developer       1.00      1.00      1.00        11\n",
      "                    sales       0.72      0.62      0.67        34\n",
      "            sap developer       1.00      1.00      1.00         7\n",
      "                  testing       1.00      1.00      1.00         9\n",
      "            web designing       0.91      1.00      0.95        10\n",
      "\n",
      "                 accuracy                           0.75       598\n",
      "                macro avg       0.82      0.83      0.81       598\n",
      "             weighted avg       0.76      0.75      0.73       598\n",
      "\n",
      "\n",
      "🔍 Training and tuning: Random Forest\n",
      "✅ Best Params: {'max_depth': 100, 'n_estimators': 5000}\n",
      "🎯 Accuracy: 0.8579\n",
      "📊 Classification Report:\n",
      "                           precision    recall  f1-score   support\n",
      "\n",
      "               accountant       0.73      0.96      0.83        25\n",
      "                 advocate       0.90      0.58      0.71        31\n",
      "       automation testing       1.00      0.78      0.88         9\n",
      "                 aviation       0.89      0.85      0.87        20\n",
      "                  banking       0.69      0.78      0.73        23\n",
      "               blockchain       1.00      1.00      1.00         6\n",
      "         business analyst       1.00      1.00      1.00         4\n",
      "     business-development       0.73      0.88      0.80        25\n",
      "                     chef       0.95      0.95      0.95        20\n",
      "           civil engineer       1.00      1.00      1.00         3\n",
      "             construction       0.88      0.91      0.89        23\n",
      "               consultant       0.69      0.45      0.55        20\n",
      "             data science       1.00      1.00      1.00         6\n",
      "                 database       1.00      1.00      1.00         8\n",
      "                 designer       0.95      0.86      0.90        22\n",
      "          devops engineer       1.00      0.92      0.96        13\n",
      "            digital-media       0.69      0.85      0.76        13\n",
      "         dotnet developer       0.71      1.00      0.83         5\n",
      "   electrical engineering       0.75      1.00      0.86         6\n",
      "              engineering       0.89      0.89      0.89        27\n",
      "            etl developer       1.00      1.00      1.00         8\n",
      "                  finance       0.85      0.68      0.76        25\n",
      "                  fitness       1.00      0.74      0.85        23\n",
      "                   hadoop       1.00      1.00      1.00         8\n",
      "       health and fitness       1.00      1.00      1.00         8\n",
      "               healthcare       0.54      0.67      0.60        21\n",
      "                       hr       0.82      0.97      0.89        34\n",
      "   information-technology       0.79      0.88      0.83        25\n",
      "           java developer       0.95      1.00      0.97        18\n",
      "      mechanical engineer       1.00      1.00      1.00        13\n",
      "network security engineer       1.00      1.00      1.00         2\n",
      "       operations manager       1.00      1.00      1.00         9\n",
      "                      pmo       1.00      1.00      1.00         3\n",
      "         public-relations       1.00      0.81      0.89        21\n",
      "         python developer       1.00      1.00      1.00        11\n",
      "                    sales       0.82      0.82      0.82        34\n",
      "            sap developer       1.00      1.00      1.00         7\n",
      "                  testing       1.00      1.00      1.00         9\n",
      "            web designing       1.00      1.00      1.00        10\n",
      "\n",
      "                 accuracy                           0.86       598\n",
      "                macro avg       0.90      0.90      0.90       598\n",
      "             weighted avg       0.87      0.86      0.86       598\n",
      "\n",
      "\n",
      "🔍 Training and tuning: SVM\n",
      "✅ Best Params: {'C': 10, 'kernel': 'linear'}\n",
      "🎯 Accuracy: 0.8127\n",
      "📊 Classification Report:\n",
      "                           precision    recall  f1-score   support\n",
      "\n",
      "               accountant       0.85      0.88      0.86        25\n",
      "                 advocate       0.57      0.55      0.56        31\n",
      "       automation testing       1.00      0.78      0.88         9\n",
      "                 aviation       0.88      0.75      0.81        20\n",
      "                  banking       0.52      0.74      0.61        23\n",
      "               blockchain       1.00      1.00      1.00         6\n",
      "         business analyst       1.00      1.00      1.00         4\n",
      "     business-development       0.60      0.72      0.65        25\n",
      "                     chef       1.00      0.85      0.92        20\n",
      "           civil engineer       1.00      1.00      1.00         3\n",
      "             construction       0.86      0.83      0.84        23\n",
      "               consultant       0.39      0.35      0.37        20\n",
      "             data science       1.00      1.00      1.00         6\n",
      "                 database       1.00      1.00      1.00         8\n",
      "                 designer       0.90      0.82      0.86        22\n",
      "          devops engineer       1.00      0.85      0.92        13\n",
      "            digital-media       0.77      0.77      0.77        13\n",
      "         dotnet developer       1.00      1.00      1.00         5\n",
      "   electrical engineering       1.00      1.00      1.00         6\n",
      "              engineering       0.75      0.78      0.76        27\n",
      "            etl developer       1.00      1.00      1.00         8\n",
      "                  finance       0.81      0.68      0.74        25\n",
      "                  fitness       1.00      0.65      0.79        23\n",
      "                   hadoop       1.00      1.00      1.00         8\n",
      "       health and fitness       1.00      1.00      1.00         8\n",
      "               healthcare       0.47      0.67      0.55        21\n",
      "                       hr       0.87      0.97      0.92        34\n",
      "   information-technology       0.88      0.92      0.90        25\n",
      "           java developer       1.00      1.00      1.00        18\n",
      "      mechanical engineer       1.00      1.00      1.00        13\n",
      "network security engineer       1.00      1.00      1.00         2\n",
      "       operations manager       1.00      1.00      1.00         9\n",
      "                      pmo       1.00      1.00      1.00         3\n",
      "         public-relations       0.89      0.76      0.82        21\n",
      "         python developer       1.00      1.00      1.00        11\n",
      "                    sales       0.74      0.74      0.74        34\n",
      "            sap developer       1.00      1.00      1.00         7\n",
      "                  testing       1.00      1.00      1.00         9\n",
      "            web designing       1.00      1.00      1.00        10\n",
      "\n",
      "                 accuracy                           0.81       598\n",
      "                macro avg       0.89      0.87      0.88       598\n",
      "             weighted avg       0.83      0.81      0.82       598\n",
      "\n",
      "\n",
      "🏆 Best Model: Random Forest\n",
      "🔧 Params: {'max_depth': 100, 'n_estimators': 5000}\n",
      "📈 Accuracy: 0.8579\n"
     ]
    }
   ],
   "source": [
    "best_model = None\n",
    "best_accuracy = 0\n",
    "best_model_name = \"\"\n",
    "best_model_params = {}\n",
    "\n",
    "# Training and evaluation loop\n",
    "for name, (model, params) in models.items():\n",
    "    print(f\"\\n🔍 Training and tuning: {name}\")\n",
    "    \n",
    "    grid = GridSearchCV(model, param_grid=params, cv=3, n_jobs=-1, scoring='accuracy')\n",
    "    grid.fit(X_train, y_train)\n",
    "    \n",
    "    y_pred = grid.predict(X_test)\n",
    "    accuracy = accuracy_score(y_test, y_pred)\n",
    "    \n",
    "    print(f\"✅ Best Params: {grid.best_params_}\")\n",
    "    print(f\"🎯 Accuracy: {accuracy:.4f}\")\n",
    "    print(\"📊 Classification Report:\")\n",
    "    print(classification_report(y_test, y_pred, target_names=le.classes_, zero_division=0))\n",
    "\n",
    "    if accuracy > best_accuracy:\n",
    "        best_accuracy = accuracy\n",
    "        best_model = grid.best_estimator_\n",
    "        best_model_name = name\n",
    "        best_model_params = grid.best_params_\n",
    "\n",
    "print(f\"\\n🏆 Best Model: {best_model_name}\")\n",
    "print(f\"🔧 Params: {best_model_params}\")\n",
    "print(f\"📈 Accuracy: {best_accuracy:.4f}\")"
   ]
  },
  {
   "cell_type": "code",
   "execution_count": 246,
   "id": "288c8098",
   "metadata": {},
   "outputs": [
    {
     "data": {
      "text/html": [
       "<style>#sk-container-id-1 {\n",
       "  /* Definition of color scheme common for light and dark mode */\n",
       "  --sklearn-color-text: #000;\n",
       "  --sklearn-color-text-muted: #666;\n",
       "  --sklearn-color-line: gray;\n",
       "  /* Definition of color scheme for unfitted estimators */\n",
       "  --sklearn-color-unfitted-level-0: #fff5e6;\n",
       "  --sklearn-color-unfitted-level-1: #f6e4d2;\n",
       "  --sklearn-color-unfitted-level-2: #ffe0b3;\n",
       "  --sklearn-color-unfitted-level-3: chocolate;\n",
       "  /* Definition of color scheme for fitted estimators */\n",
       "  --sklearn-color-fitted-level-0: #f0f8ff;\n",
       "  --sklearn-color-fitted-level-1: #d4ebff;\n",
       "  --sklearn-color-fitted-level-2: #b3dbfd;\n",
       "  --sklearn-color-fitted-level-3: cornflowerblue;\n",
       "\n",
       "  /* Specific color for light theme */\n",
       "  --sklearn-color-text-on-default-background: var(--sg-text-color, var(--theme-code-foreground, var(--jp-content-font-color1, black)));\n",
       "  --sklearn-color-background: var(--sg-background-color, var(--theme-background, var(--jp-layout-color0, white)));\n",
       "  --sklearn-color-border-box: var(--sg-text-color, var(--theme-code-foreground, var(--jp-content-font-color1, black)));\n",
       "  --sklearn-color-icon: #696969;\n",
       "\n",
       "  @media (prefers-color-scheme: dark) {\n",
       "    /* Redefinition of color scheme for dark theme */\n",
       "    --sklearn-color-text-on-default-background: var(--sg-text-color, var(--theme-code-foreground, var(--jp-content-font-color1, white)));\n",
       "    --sklearn-color-background: var(--sg-background-color, var(--theme-background, var(--jp-layout-color0, #111)));\n",
       "    --sklearn-color-border-box: var(--sg-text-color, var(--theme-code-foreground, var(--jp-content-font-color1, white)));\n",
       "    --sklearn-color-icon: #878787;\n",
       "  }\n",
       "}\n",
       "\n",
       "#sk-container-id-1 {\n",
       "  color: var(--sklearn-color-text);\n",
       "}\n",
       "\n",
       "#sk-container-id-1 pre {\n",
       "  padding: 0;\n",
       "}\n",
       "\n",
       "#sk-container-id-1 input.sk-hidden--visually {\n",
       "  border: 0;\n",
       "  clip: rect(1px 1px 1px 1px);\n",
       "  clip: rect(1px, 1px, 1px, 1px);\n",
       "  height: 1px;\n",
       "  margin: -1px;\n",
       "  overflow: hidden;\n",
       "  padding: 0;\n",
       "  position: absolute;\n",
       "  width: 1px;\n",
       "}\n",
       "\n",
       "#sk-container-id-1 div.sk-dashed-wrapped {\n",
       "  border: 1px dashed var(--sklearn-color-line);\n",
       "  margin: 0 0.4em 0.5em 0.4em;\n",
       "  box-sizing: border-box;\n",
       "  padding-bottom: 0.4em;\n",
       "  background-color: var(--sklearn-color-background);\n",
       "}\n",
       "\n",
       "#sk-container-id-1 div.sk-container {\n",
       "  /* jupyter's `normalize.less` sets `[hidden] { display: none; }`\n",
       "     but bootstrap.min.css set `[hidden] { display: none !important; }`\n",
       "     so we also need the `!important` here to be able to override the\n",
       "     default hidden behavior on the sphinx rendered scikit-learn.org.\n",
       "     See: https://github.com/scikit-learn/scikit-learn/issues/21755 */\n",
       "  display: inline-block !important;\n",
       "  position: relative;\n",
       "}\n",
       "\n",
       "#sk-container-id-1 div.sk-text-repr-fallback {\n",
       "  display: none;\n",
       "}\n",
       "\n",
       "div.sk-parallel-item,\n",
       "div.sk-serial,\n",
       "div.sk-item {\n",
       "  /* draw centered vertical line to link estimators */\n",
       "  background-image: linear-gradient(var(--sklearn-color-text-on-default-background), var(--sklearn-color-text-on-default-background));\n",
       "  background-size: 2px 100%;\n",
       "  background-repeat: no-repeat;\n",
       "  background-position: center center;\n",
       "}\n",
       "\n",
       "/* Parallel-specific style estimator block */\n",
       "\n",
       "#sk-container-id-1 div.sk-parallel-item::after {\n",
       "  content: \"\";\n",
       "  width: 100%;\n",
       "  border-bottom: 2px solid var(--sklearn-color-text-on-default-background);\n",
       "  flex-grow: 1;\n",
       "}\n",
       "\n",
       "#sk-container-id-1 div.sk-parallel {\n",
       "  display: flex;\n",
       "  align-items: stretch;\n",
       "  justify-content: center;\n",
       "  background-color: var(--sklearn-color-background);\n",
       "  position: relative;\n",
       "}\n",
       "\n",
       "#sk-container-id-1 div.sk-parallel-item {\n",
       "  display: flex;\n",
       "  flex-direction: column;\n",
       "}\n",
       "\n",
       "#sk-container-id-1 div.sk-parallel-item:first-child::after {\n",
       "  align-self: flex-end;\n",
       "  width: 50%;\n",
       "}\n",
       "\n",
       "#sk-container-id-1 div.sk-parallel-item:last-child::after {\n",
       "  align-self: flex-start;\n",
       "  width: 50%;\n",
       "}\n",
       "\n",
       "#sk-container-id-1 div.sk-parallel-item:only-child::after {\n",
       "  width: 0;\n",
       "}\n",
       "\n",
       "/* Serial-specific style estimator block */\n",
       "\n",
       "#sk-container-id-1 div.sk-serial {\n",
       "  display: flex;\n",
       "  flex-direction: column;\n",
       "  align-items: center;\n",
       "  background-color: var(--sklearn-color-background);\n",
       "  padding-right: 1em;\n",
       "  padding-left: 1em;\n",
       "}\n",
       "\n",
       "\n",
       "/* Toggleable style: style used for estimator/Pipeline/ColumnTransformer box that is\n",
       "clickable and can be expanded/collapsed.\n",
       "- Pipeline and ColumnTransformer use this feature and define the default style\n",
       "- Estimators will overwrite some part of the style using the `sk-estimator` class\n",
       "*/\n",
       "\n",
       "/* Pipeline and ColumnTransformer style (default) */\n",
       "\n",
       "#sk-container-id-1 div.sk-toggleable {\n",
       "  /* Default theme specific background. It is overwritten whether we have a\n",
       "  specific estimator or a Pipeline/ColumnTransformer */\n",
       "  background-color: var(--sklearn-color-background);\n",
       "}\n",
       "\n",
       "/* Toggleable label */\n",
       "#sk-container-id-1 label.sk-toggleable__label {\n",
       "  cursor: pointer;\n",
       "  display: flex;\n",
       "  width: 100%;\n",
       "  margin-bottom: 0;\n",
       "  padding: 0.5em;\n",
       "  box-sizing: border-box;\n",
       "  text-align: center;\n",
       "  align-items: start;\n",
       "  justify-content: space-between;\n",
       "  gap: 0.5em;\n",
       "}\n",
       "\n",
       "#sk-container-id-1 label.sk-toggleable__label .caption {\n",
       "  font-size: 0.6rem;\n",
       "  font-weight: lighter;\n",
       "  color: var(--sklearn-color-text-muted);\n",
       "}\n",
       "\n",
       "#sk-container-id-1 label.sk-toggleable__label-arrow:before {\n",
       "  /* Arrow on the left of the label */\n",
       "  content: \"▸\";\n",
       "  float: left;\n",
       "  margin-right: 0.25em;\n",
       "  color: var(--sklearn-color-icon);\n",
       "}\n",
       "\n",
       "#sk-container-id-1 label.sk-toggleable__label-arrow:hover:before {\n",
       "  color: var(--sklearn-color-text);\n",
       "}\n",
       "\n",
       "/* Toggleable content - dropdown */\n",
       "\n",
       "#sk-container-id-1 div.sk-toggleable__content {\n",
       "  max-height: 0;\n",
       "  max-width: 0;\n",
       "  overflow: hidden;\n",
       "  text-align: left;\n",
       "  /* unfitted */\n",
       "  background-color: var(--sklearn-color-unfitted-level-0);\n",
       "}\n",
       "\n",
       "#sk-container-id-1 div.sk-toggleable__content.fitted {\n",
       "  /* fitted */\n",
       "  background-color: var(--sklearn-color-fitted-level-0);\n",
       "}\n",
       "\n",
       "#sk-container-id-1 div.sk-toggleable__content pre {\n",
       "  margin: 0.2em;\n",
       "  border-radius: 0.25em;\n",
       "  color: var(--sklearn-color-text);\n",
       "  /* unfitted */\n",
       "  background-color: var(--sklearn-color-unfitted-level-0);\n",
       "}\n",
       "\n",
       "#sk-container-id-1 div.sk-toggleable__content.fitted pre {\n",
       "  /* unfitted */\n",
       "  background-color: var(--sklearn-color-fitted-level-0);\n",
       "}\n",
       "\n",
       "#sk-container-id-1 input.sk-toggleable__control:checked~div.sk-toggleable__content {\n",
       "  /* Expand drop-down */\n",
       "  max-height: 200px;\n",
       "  max-width: 100%;\n",
       "  overflow: auto;\n",
       "}\n",
       "\n",
       "#sk-container-id-1 input.sk-toggleable__control:checked~label.sk-toggleable__label-arrow:before {\n",
       "  content: \"▾\";\n",
       "}\n",
       "\n",
       "/* Pipeline/ColumnTransformer-specific style */\n",
       "\n",
       "#sk-container-id-1 div.sk-label input.sk-toggleable__control:checked~label.sk-toggleable__label {\n",
       "  color: var(--sklearn-color-text);\n",
       "  background-color: var(--sklearn-color-unfitted-level-2);\n",
       "}\n",
       "\n",
       "#sk-container-id-1 div.sk-label.fitted input.sk-toggleable__control:checked~label.sk-toggleable__label {\n",
       "  background-color: var(--sklearn-color-fitted-level-2);\n",
       "}\n",
       "\n",
       "/* Estimator-specific style */\n",
       "\n",
       "/* Colorize estimator box */\n",
       "#sk-container-id-1 div.sk-estimator input.sk-toggleable__control:checked~label.sk-toggleable__label {\n",
       "  /* unfitted */\n",
       "  background-color: var(--sklearn-color-unfitted-level-2);\n",
       "}\n",
       "\n",
       "#sk-container-id-1 div.sk-estimator.fitted input.sk-toggleable__control:checked~label.sk-toggleable__label {\n",
       "  /* fitted */\n",
       "  background-color: var(--sklearn-color-fitted-level-2);\n",
       "}\n",
       "\n",
       "#sk-container-id-1 div.sk-label label.sk-toggleable__label,\n",
       "#sk-container-id-1 div.sk-label label {\n",
       "  /* The background is the default theme color */\n",
       "  color: var(--sklearn-color-text-on-default-background);\n",
       "}\n",
       "\n",
       "/* On hover, darken the color of the background */\n",
       "#sk-container-id-1 div.sk-label:hover label.sk-toggleable__label {\n",
       "  color: var(--sklearn-color-text);\n",
       "  background-color: var(--sklearn-color-unfitted-level-2);\n",
       "}\n",
       "\n",
       "/* Label box, darken color on hover, fitted */\n",
       "#sk-container-id-1 div.sk-label.fitted:hover label.sk-toggleable__label.fitted {\n",
       "  color: var(--sklearn-color-text);\n",
       "  background-color: var(--sklearn-color-fitted-level-2);\n",
       "}\n",
       "\n",
       "/* Estimator label */\n",
       "\n",
       "#sk-container-id-1 div.sk-label label {\n",
       "  font-family: monospace;\n",
       "  font-weight: bold;\n",
       "  display: inline-block;\n",
       "  line-height: 1.2em;\n",
       "}\n",
       "\n",
       "#sk-container-id-1 div.sk-label-container {\n",
       "  text-align: center;\n",
       "}\n",
       "\n",
       "/* Estimator-specific */\n",
       "#sk-container-id-1 div.sk-estimator {\n",
       "  font-family: monospace;\n",
       "  border: 1px dotted var(--sklearn-color-border-box);\n",
       "  border-radius: 0.25em;\n",
       "  box-sizing: border-box;\n",
       "  margin-bottom: 0.5em;\n",
       "  /* unfitted */\n",
       "  background-color: var(--sklearn-color-unfitted-level-0);\n",
       "}\n",
       "\n",
       "#sk-container-id-1 div.sk-estimator.fitted {\n",
       "  /* fitted */\n",
       "  background-color: var(--sklearn-color-fitted-level-0);\n",
       "}\n",
       "\n",
       "/* on hover */\n",
       "#sk-container-id-1 div.sk-estimator:hover {\n",
       "  /* unfitted */\n",
       "  background-color: var(--sklearn-color-unfitted-level-2);\n",
       "}\n",
       "\n",
       "#sk-container-id-1 div.sk-estimator.fitted:hover {\n",
       "  /* fitted */\n",
       "  background-color: var(--sklearn-color-fitted-level-2);\n",
       "}\n",
       "\n",
       "/* Specification for estimator info (e.g. \"i\" and \"?\") */\n",
       "\n",
       "/* Common style for \"i\" and \"?\" */\n",
       "\n",
       ".sk-estimator-doc-link,\n",
       "a:link.sk-estimator-doc-link,\n",
       "a:visited.sk-estimator-doc-link {\n",
       "  float: right;\n",
       "  font-size: smaller;\n",
       "  line-height: 1em;\n",
       "  font-family: monospace;\n",
       "  background-color: var(--sklearn-color-background);\n",
       "  border-radius: 1em;\n",
       "  height: 1em;\n",
       "  width: 1em;\n",
       "  text-decoration: none !important;\n",
       "  margin-left: 0.5em;\n",
       "  text-align: center;\n",
       "  /* unfitted */\n",
       "  border: var(--sklearn-color-unfitted-level-1) 1pt solid;\n",
       "  color: var(--sklearn-color-unfitted-level-1);\n",
       "}\n",
       "\n",
       ".sk-estimator-doc-link.fitted,\n",
       "a:link.sk-estimator-doc-link.fitted,\n",
       "a:visited.sk-estimator-doc-link.fitted {\n",
       "  /* fitted */\n",
       "  border: var(--sklearn-color-fitted-level-1) 1pt solid;\n",
       "  color: var(--sklearn-color-fitted-level-1);\n",
       "}\n",
       "\n",
       "/* On hover */\n",
       "div.sk-estimator:hover .sk-estimator-doc-link:hover,\n",
       ".sk-estimator-doc-link:hover,\n",
       "div.sk-label-container:hover .sk-estimator-doc-link:hover,\n",
       ".sk-estimator-doc-link:hover {\n",
       "  /* unfitted */\n",
       "  background-color: var(--sklearn-color-unfitted-level-3);\n",
       "  color: var(--sklearn-color-background);\n",
       "  text-decoration: none;\n",
       "}\n",
       "\n",
       "div.sk-estimator.fitted:hover .sk-estimator-doc-link.fitted:hover,\n",
       ".sk-estimator-doc-link.fitted:hover,\n",
       "div.sk-label-container:hover .sk-estimator-doc-link.fitted:hover,\n",
       ".sk-estimator-doc-link.fitted:hover {\n",
       "  /* fitted */\n",
       "  background-color: var(--sklearn-color-fitted-level-3);\n",
       "  color: var(--sklearn-color-background);\n",
       "  text-decoration: none;\n",
       "}\n",
       "\n",
       "/* Span, style for the box shown on hovering the info icon */\n",
       ".sk-estimator-doc-link span {\n",
       "  display: none;\n",
       "  z-index: 9999;\n",
       "  position: relative;\n",
       "  font-weight: normal;\n",
       "  right: .2ex;\n",
       "  padding: .5ex;\n",
       "  margin: .5ex;\n",
       "  width: min-content;\n",
       "  min-width: 20ex;\n",
       "  max-width: 50ex;\n",
       "  color: var(--sklearn-color-text);\n",
       "  box-shadow: 2pt 2pt 4pt #999;\n",
       "  /* unfitted */\n",
       "  background: var(--sklearn-color-unfitted-level-0);\n",
       "  border: .5pt solid var(--sklearn-color-unfitted-level-3);\n",
       "}\n",
       "\n",
       ".sk-estimator-doc-link.fitted span {\n",
       "  /* fitted */\n",
       "  background: var(--sklearn-color-fitted-level-0);\n",
       "  border: var(--sklearn-color-fitted-level-3);\n",
       "}\n",
       "\n",
       ".sk-estimator-doc-link:hover span {\n",
       "  display: block;\n",
       "}\n",
       "\n",
       "/* \"?\"-specific style due to the `<a>` HTML tag */\n",
       "\n",
       "#sk-container-id-1 a.estimator_doc_link {\n",
       "  float: right;\n",
       "  font-size: 1rem;\n",
       "  line-height: 1em;\n",
       "  font-family: monospace;\n",
       "  background-color: var(--sklearn-color-background);\n",
       "  border-radius: 1rem;\n",
       "  height: 1rem;\n",
       "  width: 1rem;\n",
       "  text-decoration: none;\n",
       "  /* unfitted */\n",
       "  color: var(--sklearn-color-unfitted-level-1);\n",
       "  border: var(--sklearn-color-unfitted-level-1) 1pt solid;\n",
       "}\n",
       "\n",
       "#sk-container-id-1 a.estimator_doc_link.fitted {\n",
       "  /* fitted */\n",
       "  border: var(--sklearn-color-fitted-level-1) 1pt solid;\n",
       "  color: var(--sklearn-color-fitted-level-1);\n",
       "}\n",
       "\n",
       "/* On hover */\n",
       "#sk-container-id-1 a.estimator_doc_link:hover {\n",
       "  /* unfitted */\n",
       "  background-color: var(--sklearn-color-unfitted-level-3);\n",
       "  color: var(--sklearn-color-background);\n",
       "  text-decoration: none;\n",
       "}\n",
       "\n",
       "#sk-container-id-1 a.estimator_doc_link.fitted:hover {\n",
       "  /* fitted */\n",
       "  background-color: var(--sklearn-color-fitted-level-3);\n",
       "}\n",
       "</style><div id=\"sk-container-id-1\" class=\"sk-top-container\"><div class=\"sk-text-repr-fallback\"><pre>RandomForestClassifier(max_depth=100, n_estimators=5000)</pre><b>In a Jupyter environment, please rerun this cell to show the HTML representation or trust the notebook. <br />On GitHub, the HTML representation is unable to render, please try loading this page with nbviewer.org.</b></div><div class=\"sk-container\" hidden><div class=\"sk-item\"><div class=\"sk-estimator fitted sk-toggleable\"><input class=\"sk-toggleable__control sk-hidden--visually\" id=\"sk-estimator-id-1\" type=\"checkbox\" checked><label for=\"sk-estimator-id-1\" class=\"sk-toggleable__label fitted sk-toggleable__label-arrow\"><div><div>RandomForestClassifier</div></div><div><a class=\"sk-estimator-doc-link fitted\" rel=\"noreferrer\" target=\"_blank\" href=\"https://scikit-learn.org/1.6/modules/generated/sklearn.ensemble.RandomForestClassifier.html\">?<span>Documentation for RandomForestClassifier</span></a><span class=\"sk-estimator-doc-link fitted\">i<span>Fitted</span></span></div></label><div class=\"sk-toggleable__content fitted\"><pre>RandomForestClassifier(max_depth=100, n_estimators=5000)</pre></div> </div></div></div></div>"
      ],
      "text/plain": [
       "RandomForestClassifier(max_depth=100, n_estimators=5000)"
      ]
     },
     "execution_count": 246,
     "metadata": {},
     "output_type": "execute_result"
    }
   ],
   "source": [
    "best_model"
   ]
  },
  {
   "cell_type": "code",
   "execution_count": 228,
   "id": "2674ce4a",
   "metadata": {},
   "outputs": [
    {
     "name": "stdout",
     "output_type": "stream",
     "text": [
      "✅ Best model saved as 'best_model.pkl'\n",
      "✅ TF-IDF vectorizer saved as 'tfidf_vectorizer.pkl'\n"
     ]
    }
   ],
   "source": [
    "import joblib\n",
    "\n",
    "# Save the best model\n",
    "joblib.dump(best_model, 'best_model.pkl')\n",
    "print(\"✅ Best model saved as 'best_model.pkl'\")\n",
    "\n",
    "# Save the TF-IDF vectorizer\n",
    "joblib.dump(tfidf, 'tfidf_vectorizer.pkl')\n",
    "print(\"✅ TF-IDF vectorizer saved as 'tfidf_vectorizer.pkl'\")\n"
   ]
  },
  {
   "cell_type": "code",
   "execution_count": 253,
   "id": "72763e6f",
   "metadata": {},
   "outputs": [],
   "source": [
    "# Load model and vectorizer\n",
    "model = joblib.load('best_model.pkl')\n",
    "vectorizer = joblib.load('tfidf_vectorizer.pkl')\n"
   ]
  },
  {
   "cell_type": "code",
   "execution_count": 254,
   "id": "efcc083b",
   "metadata": {},
   "outputs": [],
   "source": [
    "resume = \"\"\"\n",
    "         TEACHER\n",
    "         Skills\n",
    "         Educator: People skills, enthusiastic, problem-solver, great organizational skills, encouraging, technology savvy, eager to learn, communicates great with colleagues and parents, sets high and clear expectations for students, eager to teach, loves to teach students how to \"love to learn\", always looking for ways to grow as a person and educator\n",
    "\n",
    "         Education\n",
    "         University of Redlands, 2008 - Elementary Credentials: Education, City, State, United States\n",
    "         California Baptist University, 2006 - Bachelor of Arts: Liberal Arts, City, State, United States\n",
    "\n",
    "         Teaching Experience\n",
    "         Company Name - Teacher, City, State\n",
    "         Long term substitute for fifth grade. Hired as a probationary teacher and taught second grade for two years...\n",
    "         [and so on for the rest of the text]\n",
    "\n",
    "         Professional Development\n",
    "         WRITE Institute. Get Ahead Writing. English Language Development. Common Core Math. Common Core Language Arts. Combination Class Support.\n",
    "\n",
    "         Leadership\n",
    "         Grade level lead for three years. Trainer of trainees for the WRITE Institute. Trainer of trainees for Common Core. RCD unit writer at my current site.\n",
    "\n",
    "         Other Accomplishments\n",
    "         Last year I was asked to administer the GATE after school program...\n",
    "\"\"\"\n"
   ]
  },
  {
   "cell_type": "code",
   "execution_count": 255,
   "id": "d5c3a48a",
   "metadata": {},
   "outputs": [],
   "source": [
    "resume1 = \"\"\"\n",
    "         TRANSITIONAL HOUSING ADVOCATE       Summary     Diversified background in providing services to culturally sensitive issues that involve clients. Proven record of absorbing new concepts easily and adapting to highly demanding situations. Exceptionally strong interpersonal and teamwork skills. Exhibits dependability in performing work and willingness to accept responsibilities. Strong skills in appropriate levels of written and verbal communication necessary in the job description. Combined with abilities to maintain effective and productive working relationships with fellow employees, supervisors and the public.       Accomplishments      Facilitated Empowerment through Art classes for survivors  Facilitated Healthy Relationship classes/Parenting classes  Increased office organization by developing more efficient data base RPMS  Coordinated office assistant functions for team of 3 employees        Education          Associate of Science  :  Truckee Community College   -   Psychology    City  ,   State               1995   Associate of Arts  :  Southwester Polytechnic Institute   -   General Studies    City  ,   State              Interests    Currently serve as a volunteer for the Sexual Assault Response Team (SART), provide support to victims in crisis, document vital information related to assault, and make appropriate referrals available victims.      Additional Information      Currently serve as a volunteer for the Sexual Assault Response Team (SART), provide support to victims in crisis, document vital information related to assault, and make appropriate referrals available victims.        Skills     Peer counseling, customer service, database, documentation, Internet Applications, Excel, e-mail, office, Outlook, Power Point, Publisher, Microsoft Word, Personnel, policies, presentations, safety, transportation       Experience      Transitional Housing Advocate   09/2013   ï¼   Current     Company Name     City  ,   State       Provide case management (goal planning, safety planning, resources, regular home visits)  Identify barriers to housing to prevent homelessness  Provide on-going education about domestic violence and sexual assault issues  Provide advocacy to help victims stay in their home (landlord tenant issues)  Manage multiple sources of funding through T-housing grant to assist victims          Mental Health Support Specialist   05/2013   ï¼   09/2013     Company Name     City  ,   State       Behavioral Services.  Develop service recipient's basic living skills (e.g., social, domestic, and hygiene) through instruction and encouragement.  Coordinate and maintain service recipient's schedule (doctor appointments, professional team appointments).  Adhere to service recipient's behavior and health management plans (administration of medication, use of behavior modification techniques).  Maintain documentation on each recipient served.  Serve as a good role model to service recipients.          Administrative Assistant   03/2013   ï¼   06/2013     Company Name     City  ,   State       Transcribe Tribal Council Meeting Minutes for the Tribal Chairman's office, prepare and submit minutes to appropriate persons and agencies per policy.          Community Liaison   06/2009   ï¼   10/2012     Company Name     City  ,   State       Victims Sevicest Program Conduct all program client intakes and interviews, obtain and maintain information on health and social needs.  Explain program services, requirements and policy, procedures.  Obtain and track client data though RPMS.  Provide case management to victims in the safe house Provide peer counseling to victims in crisis, safety plans, goal plans  Stabilize victims with family needs through referrals to emergency shelter, childcare, clothing, food banks and to various temporary job agencies.  Provide transportation and supportive services for clients to appointments and provide court advocacy.  Coordinate and facilitate Healthy Relationship and Women's Empowerment groups.  Conduct outreach for the Domestic Violence Program at various events and make presentations to other social services agencies.  Gather, prepare and submit monthly and quarterly reports.  Maintain confidentiality per policy.          Elders Support Coordinator   05/2007   ï¼   06/2009     Company Name     City  ,   State       Elders Program.  Elder Support Partner.  Maintain and Track client hours on State System (SAMS); prepare and submit monthly and quarterly reports to the granting agency.  Conduct all client intakes and interviews, assess each client on homemaker needs.  Assist Community Health Personnel with monthly luncheons and other elder related duties.  Provide transportation to the elderly to various appointments.          Technician III   01/2001   ï¼   04/2007     Company Name     City  ,   State       Interview and explain laws, regulations and policies to customers.  Evaluate individuals for physical and mental abilities to operate motor vehicles.  Oversee technicians who were in training for driver's license for durations of three months at a time.  Provide customer service tactfully and diplomatically in difficult situations.       \"\"\""
   ]
  },
  {
   "cell_type": "code",
   "execution_count": 259,
   "id": "eb6eb13e",
   "metadata": {},
   "outputs": [],
   "source": [
    "resume2 = \"\"\"TECHNICAL PROFICIENCIES Platform: Ubuntu/Fedora/Cent OS/Windows Database: MySQL Languages: Python, Tensorflow, Numpy, C, C++ Education Details \n",
    "January 2016 ME Computer Engineering Pune, Maharashtra Savitribai Phule Pune University\n",
    "January 2014 B.E Computer Engineering Pune, Maharashtra Savitribai Phule Pune University\n",
    "January 2010    RYK Science College, Maharashtra state board\n",
    "January 2008    Maharashtra state board\n",
    "Python developer \n",
    "\n",
    "Python Developer\n",
    "Skill Details \n",
    "C++- Exprience - 6 months\n",
    "MYSQL- Exprience - 6 months\n",
    "PYTHON- Exprience - 6 monthsCompany Details \n",
    "company - Fresher\n",
    "description - Python programming\"\"\""
   ]
  },
  {
   "cell_type": "code",
   "execution_count": 263,
   "id": "7036f2b8",
   "metadata": {},
   "outputs": [],
   "source": [
    "cleaned_resume = clean_text(resume2) \n",
    "\n",
    "input_features = vectorizer.transform([cleaned_resume])\n",
    "\n",
    "prediction = model.predict(input_features)[0]"
   ]
  },
  {
   "cell_type": "code",
   "execution_count": 264,
   "id": "bcd5f415",
   "metadata": {},
   "outputs": [],
   "source": [
    "job_label_mapping = {\n",
    "    12: 'data science',\n",
    "    26: 'hr',\n",
    "    1: 'advocate',\n",
    "    38: 'web designing',\n",
    "    29: 'mechanical engineer',\n",
    "    35: 'sales',\n",
    "    24: 'health and fitness',\n",
    "    9: 'civil engineer',\n",
    "    28: 'java developer',\n",
    "    6: 'business analyst',\n",
    "    36: 'sap developer',\n",
    "    2: 'automation testing',\n",
    "    18: 'electrical engineering',\n",
    "    31: 'operations manager',\n",
    "    34: 'python developer',\n",
    "    15: 'devops engineer',\n",
    "    30: 'network security engineer',\n",
    "    32: 'pmo',\n",
    "    13: 'database',\n",
    "    23: 'hadoop',\n",
    "    20: 'etl developer',\n",
    "    17: 'dotnet developer',\n",
    "    5: 'blockchain',\n",
    "    37: 'testing',\n",
    "    14: 'designer',\n",
    "    27: 'information-technology',\n",
    "    7: 'business-development',\n",
    "    25: 'healthcare',\n",
    "    22: 'fitness',\n",
    "    11: 'consultant',\n",
    "    16: 'digital-media',\n",
    "    8: 'chef',\n",
    "    21: 'finance',\n",
    "    19: 'engineering',\n",
    "    0: 'accountant',\n",
    "    10: 'construction',\n",
    "    33: 'public-relations',\n",
    "    4: 'banking',\n",
    "    3: 'aviation'\n",
    "}\n"
   ]
  },
  {
   "cell_type": "code",
   "execution_count": 265,
   "id": "13629f00",
   "metadata": {},
   "outputs": [
    {
     "name": "stdout",
     "output_type": "stream",
     "text": [
      "Predicted Category: python developer\n"
     ]
    }
   ],
   "source": [
    "category_name = job_label_mapping.get(prediction, \"Unknown Category\")\n",
    "print(f\"Predicted Category: {category_name}\")"
   ]
  },
  {
   "cell_type": "code",
   "execution_count": null,
   "id": "34a66a4e",
   "metadata": {},
   "outputs": [],
   "source": []
  }
 ],
 "metadata": {
  "kernelspec": {
   "display_name": "venv",
   "language": "python",
   "name": "python3"
  },
  "language_info": {
   "codemirror_mode": {
    "name": "ipython",
    "version": 3
   },
   "file_extension": ".py",
   "mimetype": "text/x-python",
   "name": "python",
   "nbconvert_exporter": "python",
   "pygments_lexer": "ipython3",
   "version": "3.11.9"
  }
 },
 "nbformat": 4,
 "nbformat_minor": 5
}
